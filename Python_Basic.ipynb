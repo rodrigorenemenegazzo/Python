{
  "nbformat": 4,
  "nbformat_minor": 0,
  "metadata": {
    "colab": {
      "name": "Python Basic.ipynb",
      "provenance": [],
      "collapsed_sections": [],
      "authorship_tag": "ABX9TyNKImK9QUjqWJ5JhClfzsTH",
      "include_colab_link": true
    },
    "kernelspec": {
      "name": "python3",
      "display_name": "Python 3"
    },
    "language_info": {
      "name": "python"
    }
  },
  "cells": [
    {
      "cell_type": "markdown",
      "metadata": {
        "id": "view-in-github",
        "colab_type": "text"
      },
      "source": [
        "<a href=\"https://colab.research.google.com/github/rodrigorenemenegazzo/Python/blob/main/Python_Basic.ipynb\" target=\"_parent\"><img src=\"https://colab.research.google.com/assets/colab-badge.svg\" alt=\"Open In Colab\"/></a>"
      ]
    },
    {
      "cell_type": "markdown",
      "source": [
        "**The difference between go through a list to see the values and to use the values in a loop.**\n"
      ],
      "metadata": {
        "id": "SCQyaSUOeVSX"
      }
    },
    {
      "cell_type": "code",
      "source": [
        "lista = [0,1,0,0,1,0,0,0]\n",
        "\n",
        "for i in lista:\n",
        "  print(i)"
      ],
      "metadata": {
        "colab": {
          "base_uri": "https://localhost:8080/"
        },
        "id": "BN-Ao97cgs2m",
        "outputId": "93142b2f-7ffd-4dfb-ed68-e605dfcb9704"
      },
      "execution_count": 5,
      "outputs": [
        {
          "output_type": "stream",
          "name": "stdout",
          "text": [
            "0\n",
            "1\n",
            "0\n",
            "0\n",
            "1\n",
            "0\n",
            "0\n",
            "0\n"
          ]
        }
      ]
    },
    {
      "cell_type": "markdown",
      "source": [
        "It's working very well if you just want to read the list elements.\n",
        "\n",
        "In the other hand, if you want to write or update the elements, you will need the indices. The common way to do it, is combining the built-in **range()** and **len()** functions like this:"
      ],
      "metadata": {
        "id": "Ye03HoVLgpB0"
      }
    },
    {
      "cell_type": "code",
      "execution_count": 4,
      "metadata": {
        "colab": {
          "base_uri": "https://localhost:8080/"
        },
        "id": "iCgjGF9jeDzj",
        "outputId": "b398ec1e-4ca2-4b7f-89b2-071d15c11249"
      },
      "outputs": [
        {
          "output_type": "stream",
          "name": "stdout",
          "text": [
            "length:  8\n",
            "0\n",
            "1\n",
            "2\n",
            "3\n",
            "4\n",
            "5\n",
            "6\n",
            "7\n"
          ]
        }
      ],
      "source": [
        "lista = [0,1,0,0,1,0,0,0]\n",
        "\n",
        "print(\"length: \", len(lista))\n",
        "\n",
        "for r in range(len(lista)):\n",
        "  print(r)"
      ]
    }
  ]
}